{
 "cells": [
  {
   "cell_type": "code",
   "execution_count": 1,
   "metadata": {},
   "outputs": [],
   "source": [
    "import numpy as np\n",
    "import pandas as pd"
   ]
  },
  {
   "cell_type": "code",
   "execution_count": 23,
   "metadata": {
    "scrolled": true
   },
   "outputs": [
    {
     "name": "stdout",
     "output_type": "stream",
     "text": [
      "Read 25000 Bag_Of_Centroids, 25000 Word2Vec_AverageVectors, and 25000 Bag_of_Words\n",
      "\n"
     ]
    }
   ],
   "source": [
    "# 读取数据 \n",
    "Bag_Of_Centroids = pd.read_csv( \"F:\\\\NLP\\\\kaggle_data\\\\BagOfCentroids.csv\", header=0, delimiter=\",\", quoting=3)\n",
    "\n",
    "Word2Vec_AverageVectors = pd.read_csv( \"F:\\\\NLP\\\\kaggle_data\\\\Word2Vec_AverageVectors.csv\", header=0, delimiter=\",\", quoting=3 )\n",
    "\n",
    "Bag_of_Words = pd.read_csv( \"F:\\\\NLP\\\\kaggle_data\\\\Bag_of_Words_model.csv\", header=0, delimiter=\",\", quoting=3 )\n",
    "\n",
    "\n",
    "print(\"Read %d Bag_Of_Centroids, %d Word2Vec_AverageVectors, \"\n",
    " \"and %d Bag_of_Words\\n\" % (Bag_Of_Centroids[\"sentiment\"].size,  \n",
    " Word2Vec_AverageVectors[\"sentiment\"].size, Bag_of_Words[\"sentiment\"].size ))"
   ]
  },
  {
   "cell_type": "code",
   "execution_count": 26,
   "metadata": {},
   "outputs": [
    {
     "name": "stdout",
     "output_type": "stream",
     "text": [
      "25000\n"
     ]
    }
   ],
   "source": [
    "print(len(Bag_of_Words))"
   ]
  },
  {
   "cell_type": "code",
   "execution_count": 42,
   "metadata": {},
   "outputs": [
    {
     "name": "stdout",
     "output_type": "stream",
     "text": [
      "Bag_of_Words和Word2Vec_AverageVectors的结果相同率为：84.148%\n"
     ]
    }
   ],
   "source": [
    "# 比较Bag_of_Words和Word2Vec_AverageVectors的结果\n",
    "count = 0\n",
    "i = 0\n",
    "for sentiment in Bag_of_Words[\"sentiment\"]:\n",
    "    if Bag_of_Words[\"id\"][i] == Word2Vec_AverageVectors[\"id\"][i]:\n",
    "        if sentiment == Word2Vec_AverageVectors[\"sentiment\"][i]:\n",
    "            count = count + 1\n",
    "    i = i + 1\n",
    "print(\"Bag_of_Words和Word2Vec_AverageVectors的结果相同率为：\"+str(count/25000*100) + \"%\")"
   ]
  },
  {
   "cell_type": "code",
   "execution_count": 44,
   "metadata": {},
   "outputs": [
    {
     "name": "stdout",
     "output_type": "stream",
     "text": [
      "Bag_of_Words和Bag_Of_Centroids的结果相同率为：87.184%\n"
     ]
    }
   ],
   "source": [
    "# 比较Bag_of_Words和Bag_Of_Centroids的结果\n",
    "count = 0\n",
    "i = 0\n",
    "for sentiment in Bag_of_Words[\"sentiment\"]:\n",
    "    if Bag_of_Words[\"id\"][i] == Word2Vec_AverageVectors[\"id\"][i]:\n",
    "        if sentiment == Bag_Of_Centroids[\"sentiment\"][i]:\n",
    "            count = count + 1\n",
    "    i = i + 1\n",
    "print(\"Bag_of_Words和Bag_Of_Centroids的结果相同率为：\"+str(count/25000*100) + \"%\")"
   ]
  },
  {
   "cell_type": "code",
   "execution_count": 46,
   "metadata": {},
   "outputs": [
    {
     "name": "stdout",
     "output_type": "stream",
     "text": [
      "Bag_Of_Centroids和Word2Vec_AverageVectors的结果相同率为：84.524%\n"
     ]
    }
   ],
   "source": [
    "# Bag_Of_Centroids和Word2Vec_AverageVectors的结果\n",
    "count = 0\n",
    "i = 0\n",
    "for sentiment in Bag_Of_Centroids[\"sentiment\"]:\n",
    "    if Bag_Of_Centroids[\"id\"][i] == Word2Vec_AverageVectors[\"id\"][i]:\n",
    "        if sentiment == Word2Vec_AverageVectors[\"sentiment\"][i]:\n",
    "            count = count + 1\n",
    "    i = i + 1\n",
    "print(\"Bag_Of_Centroids和Word2Vec_AverageVectors的结果相同率为：\"+str(count/25000*100) + \"%\")"
   ]
  }
 ],
 "metadata": {
  "kernelspec": {
   "display_name": "Python 3",
   "language": "python",
   "name": "python3"
  },
  "language_info": {
   "codemirror_mode": {
    "name": "ipython",
    "version": 3
   },
   "file_extension": ".py",
   "mimetype": "text/x-python",
   "name": "python",
   "nbconvert_exporter": "python",
   "pygments_lexer": "ipython3",
   "version": "3.6.12"
  }
 },
 "nbformat": 4,
 "nbformat_minor": 1
}
